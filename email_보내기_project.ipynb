{
  "nbformat": 4,
  "nbformat_minor": 0,
  "metadata": {
    "colab": {
      "name": "email 보내기 project",
      "provenance": [],
      "authorship_tag": "ABX9TyP4gxBtUM5MpyQ6JFnwhI6V",
      "include_colab_link": true
    },
    "kernelspec": {
      "name": "python3",
      "display_name": "Python 3"
    },
    "language_info": {
      "name": "python"
    }
  },
  "cells": [
    {
      "cell_type": "markdown",
      "metadata": {
        "id": "view-in-github",
        "colab_type": "text"
      },
      "source": [
        "<a href=\"https://colab.research.google.com/github/cocofafa/python-library/blob/master/email_%EB%B3%B4%EB%82%B4%EA%B8%B0_project.ipynb\" target=\"_parent\"><img src=\"https://colab.research.google.com/assets/colab-badge.svg\" alt=\"Open In Colab\"/></a>"
      ]
    },
    {
      "cell_type": "code",
      "metadata": {
        "id": "TNgHBPNG_SLz"
      },
      "source": [
        "\n",
        "from email.message import EmailMessage \n",
        "import smtplib \n",
        "# SMTP 접속을 위한 서버, 계정 설정 \n",
        "SMTP_SERVER = \"smtp.gmail.com\" \n",
        "# google의 SMTP server 포트 주소는 465 \n",
        "SMTP_PORT = 465 \n",
        "# 이메일 유효성 검사 함수 \n",
        "def is_valid(addr): \n",
        "    import re \n",
        "    if re.match('(^[a-zA-Z0-9.+_-]+@[a-zA-Z0-9-]+.[a-zA-Z]{2,3}$)', addr): \n",
        "        return True \n",
        "    else: \n",
        "        return False \n",
        "message = EmailMessage() \n",
        "message.set_content(\"코드라이언 메일링 수업 - 본문입니다.\") \n",
        "message[\"Subject\"] = \"코드라이언 메일링 수업입니다.\" \n",
        "message[\"From\"] = \"###@gmail.com\" \n",
        "message[\"To\"] = \"###@gmail.com\" \n",
        "smtp = smtplib.SMTP_SSL(SMTP_SERVER,SMTP_PORT) \n",
        "smtp.login(\"###@gmail.com\",\"######\") \n",
        "is_valid(\"###@gmail.com\") \n",
        "if smtp.send_message(message)=={} : \n",
        "    print(\"성공적으로 메일을 보냈습니다.\") \n",
        "smtp.quit()\n"
      ],
      "execution_count": null,
      "outputs": []
    }
  ]
}