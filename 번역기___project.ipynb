{
  "nbformat": 4,
  "nbformat_minor": 0,
  "metadata": {
    "colab": {
      "name": "번역기 _ project",
      "provenance": [],
      "authorship_tag": "ABX9TyMlXosR/91on9oshUIVG93Q",
      "include_colab_link": true
    },
    "kernelspec": {
      "name": "python3",
      "display_name": "Python 3"
    },
    "language_info": {
      "name": "python"
    }
  },
  "cells": [
    {
      "cell_type": "markdown",
      "metadata": {
        "id": "view-in-github",
        "colab_type": "text"
      },
      "source": [
        "<a href=\"https://colab.research.google.com/github/cocofafa/python-library/blob/master/%EB%B2%88%EC%97%AD%EA%B8%B0___project.ipynb\" target=\"_parent\"><img src=\"https://colab.research.google.com/assets/colab-badge.svg\" alt=\"Open In Colab\"/></a>"
      ]
    },
    {
      "cell_type": "code",
      "metadata": {
        "id": "F2MTu5UbHOMc"
      },
      "source": [
        "최종코드\n",
        "\n",
        "from googletrans import Translator \n",
        "translator = Translator() \n",
        "# sentence = \"좋은 아침이에요\" \n",
        "sentence = input(\"번역을 원하는 문장을 입력하세요 : \") \n",
        "result = translator.translate(sentence, dest=\"en\") \n",
        "detect = translator.detect(sentence) \n",
        "print(\"\\n============= 번역 결과 ============\\n\") \n",
        "print(detect.lang,\":\", result.origin) \n",
        "print(result.dest,\":\", result.text) \n",
        "print(\"\\n====================================\\n\")\n"
      ],
      "execution_count": null,
      "outputs": []
    },
    {
      "cell_type": "code",
      "metadata": {
        "id": "fEFNnnhbHZh1"
      },
      "source": [
        "#GOOLGLETRANS 모듈 : 언어감지 / 번역 기능을 가지고 있는 모듈 즉 library이다\n",
        "#library:  모듈을 큰 기능 단위로 묶어둔 것"
      ],
      "execution_count": null,
      "outputs": []
    },
    {
      "cell_type": "code",
      "metadata": {
        "id": "Ioi82ObeHZsg"
      },
      "source": [
        "#from googletrans import Translator \n",
        "#Translator() #따로 재료는 필요없고 트랜스 레이터만 호출해주면 된다. , 트랜스레이터라는 번역기를 만든것이다.\n",
        "\n",
        "#sentence = \"안녕하세요 코드라이언입니다.\" \n",
        "#detected=translator.detect(sentence) # 트랜스레이터 안의 detect()함수를 사용해 원하는 문장을 '언어감지' 한다.\n",
        "\n",
        "#print(detected.lang) #감지하다 라는 영단어  detected, "
      ],
      "execution_count": null,
      "outputs": []
    }
  ]
}