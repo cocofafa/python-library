{
  "nbformat": 4,
  "nbformat_minor": 0,
  "metadata": {
    "colab": {
      "name": "10.01_Elice_ML 1강",
      "provenance": [],
      "authorship_tag": "ABX9TyMe7URiIj8ksG/6C4/UXwpB",
      "include_colab_link": true
    },
    "kernelspec": {
      "name": "python3",
      "display_name": "Python 3"
    },
    "language_info": {
      "name": "python"
    }
  },
  "cells": [
    {
      "cell_type": "markdown",
      "metadata": {
        "id": "view-in-github",
        "colab_type": "text"
      },
      "source": [
        "<a href=\"https://colab.research.google.com/github/cocofafa/python-library/blob/master/10_01_Elice_ML_1%EA%B0%95.ipynb\" target=\"_parent\"><img src=\"https://colab.research.google.com/assets/colab-badge.svg\" alt=\"Open In Colab\"/></a>"
      ]
    },
    {
      "cell_type": "code",
      "metadata": {
        "colab": {
          "base_uri": "https://localhost:8080/",
          "height": 198
        },
        "id": "mo_0XiUoEJP5",
        "outputId": "09af1819-92d6-45da-8f20-6338c304a960"
      },
      "source": [
        "\"\"\"\n",
        "@인공지능/머신러닝 개론\n",
        "\n",
        "빅 데이터를 통하여 IoT,클라우드,ML 상호호환\n",
        "\n",
        "머신러닝은 빅데이터를 분석할수 있는 강력한 툴\n",
        "\n",
        "기존 통계학 및 시각화 방법의 한계를 해결 (예측, 패턴파악, 추천시스템)\n",
        "\n",
        "-머신러닝\n",
        "1. 명시적으로 프로그래밍을 하지 않고도\n",
        "컴퓨터가 스스로 학습 할 수 잇는 능력을 갖게 하는 것\n",
        "\n",
        "지도학습/비지도학습/강화학습\n",
        "\n",
        "지도학습= 회귀분석, 분류 (데이터의 정답이 정해져있으면 지도학습 모델이다)\n",
        "비지도 학습 = (데이터의 학슬할 사진은 있지만 물체가 어떤것인지 정보가 없는것을 해결)\n",
        "\n",
        "정답이 있으면 지도학습, 없으면 비지도 학습\n",
        "\n",
        "강화학습= 학습을 하기 위한 데이터가 없어도 기계가 스스로 학습을(학습할 데이터를 만든다) 진행한다\n",
        "\n",
        "Ex_ 알파고\n",
        "\n",
        "이번 학습에선 지도학습을 구현하기 위한 \n",
        "1) 데이터에 대한 이해\n",
        "2) 머신러닝에 사용하기 위한 데이터 처리법\n",
        "3)지도학습 방법\n",
        "-회귀,분류 알고리즘\n",
        "\n",
        "데이터 이해 -> 데이터 처리 - 지도학습 모델\n",
        "\n",
        "\"\"\"\n"
      ],
      "execution_count": 1,
      "outputs": [
        {
          "output_type": "execute_result",
          "data": {
            "application/vnd.google.colaboratory.intrinsic+json": {
              "type": "string"
            },
            "text/plain": [
              "'\\n@인공지능/머신러닝 개론\\n\\n빅 데이터를 통하여 IoT,클라우드,ML 상호호환\\n\\n머신러닝은 빅데이터를 분석할수 있는 강력한 툴\\n\\n기존 통계학 및 시각화 방법의 한계를 해결 (예측, 패턴파악, 추천시스템)\\n\\n-머신러닝\\n1. 명시적으로 프로그래밍을 하지 않고도\\n컴퓨터가 스스로 학습 할 수 잇는 능력을 갖게 하는 것\\n\\n지도학습/비지도학습/강화학습\\n\\n지도학습= 회귀분석, 분류 (데이터의 정답이 정해져있으면 지도학습 모델이다)\\n비지도 학습 = (데이터의 학슬할 사진은 있지만 물체가 어떤것인지 정보가 없는것을 해결)\\n\\n정답이 있으면 지도학습, 없으면 비지도 학습\\n\\n강화학습= 학습을 하기 위한 데이터가 없어도 기계가 스스로 학습을(학습할 데이터를 만든다) 진행한다\\n\\nEx_ 알파고\\n\\n이번 학습에선 지도학습을 구현하기 위한 \\n1) 데이터에 대한 이해\\n2) 머신러닝에 사용하기 위한 데이터 처리법\\n3)지도학습 방법\\n-회귀,분류 알고리즘\\n\\n\\n\\n'"
            ]
          },
          "metadata": {},
          "execution_count": 1
        }
      ]
    },
    {
      "cell_type": "code",
      "metadata": {
        "id": "t4pwkidkEMlY"
      },
      "source": [
        "#자료의 형태 (범주형, 수치형로 나뉜다)\n",
        "\"\"\"\n",
        "자료의 형태를 알아야 하는 이유\n",
        "\n",
        ": 머신러닝 사용하기 위한 필수과정으로 \n",
        "1. 데이터가 어떻게 구성되어 있을까?\n",
        "2. 어떤 머신러닝 모델을 사용해야 할까?\n",
        "3. 데이터의 전처리를 어떻게 해야할까\n",
        "\"\"\"\n"
      ],
      "execution_count": null,
      "outputs": []
    },
    {
      "cell_type": "code",
      "metadata": {
        "id": "ePau8buZEMnf"
      },
      "source": [
        "\"\"\"\n",
        "범주형 자료의 요약 - 도수분포표\n",
        "범주형 자료를 요약하기 위해 도수분포표를 출력해보겠습니다.\n",
        "\n",
        "A, B, C, D, E 이 다섯 명의 술자리 참여 횟수가 기록된 데이터를 저장한 파일인 drink.csv 파일을 이용하여 누가 제일 술자리에 자주 나왔는지 value_counts() 함수로 계산한 도수로 확인해봅시다.\n",
        "\n",
        "\"\"\"\n"
      ],
      "execution_count": null,
      "outputs": []
    },
    {
      "cell_type": "code",
      "metadata": {
        "id": "eLiwz78lEMpf"
      },
      "source": [
        "import pandas as pd \n",
        "import numpy as np\n",
        "\n",
        "# drink 데이터\n",
        "drink = pd.read_csv(\"drink.csv\")\n",
        "\n",
        "\"\"\"\n",
        "1. 도수 계산\n",
        "\"\"\"\n",
        "drink_freq = None\n",
        "\n",
        "print(\"도수분포표\")\n",
        "print(drink_freq)"
      ],
      "execution_count": null,
      "outputs": []
    },
    {
      "cell_type": "code",
      "metadata": {
        "id": "1xOMsARIEMrm"
      },
      "source": [
        ""
      ],
      "execution_count": null,
      "outputs": []
    },
    {
      "cell_type": "code",
      "metadata": {
        "id": "JBO1As0PEMtX"
      },
      "source": [
        ""
      ],
      "execution_count": null,
      "outputs": []
    },
    {
      "cell_type": "code",
      "metadata": {
        "id": "a0YkSNZzEMvY"
      },
      "source": [
        ""
      ],
      "execution_count": null,
      "outputs": []
    }
  ]
}