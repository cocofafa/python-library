{
  "nbformat": 4,
  "nbformat_minor": 0,
  "metadata": {
    "colab": {
      "name": "API",
      "provenance": [],
      "authorship_tag": "ABX9TyPnlqWURZOmNI9mFNL+j60z",
      "include_colab_link": true
    },
    "kernelspec": {
      "name": "python3",
      "display_name": "Python 3"
    },
    "language_info": {
      "name": "python"
    }
  },
  "cells": [
    {
      "cell_type": "markdown",
      "metadata": {
        "id": "view-in-github",
        "colab_type": "text"
      },
      "source": [
        "<a href=\"https://colab.research.google.com/github/cocofafa/python-library/blob/master/API.ipynb\" target=\"_parent\"><img src=\"https://colab.research.google.com/assets/colab-badge.svg\" alt=\"Open In Colab\"/></a>"
      ]
    },
    {
      "cell_type": "code",
      "metadata": {
        "id": "IuJuAKvd_8_t"
      },
      "source": [
        "import requests\n",
        "import json\n",
        "\n",
        "city = \"Seoul\"\n",
        "apikey = \"################################\"\n",
        "lang = \"kr\"\n",
        "# units - metric\n",
        "api = f\"\"\"http://api.openweathermap.org/data/2.5/\\\n",
        "weather?q={city}&appid={apikey}&lang={lang}&units=metric\"\"\"\n",
        "\n",
        "result = requests.get(api)\n",
        "# print(result.text)\n",
        "\n",
        "data = json.loads(result.text) 지역 : name\n",
        "print(data[\"name\"],\"의 날씨입니다.\")\n",
        "# 자세한 날씨 : weather - description\n",
        "print(\"날씨는 \",data[\"weather\"][0][\"description\"],\"입니다.\")\n",
        "# 현재 온도 : main - temp\n",
        "print(\"현재 온도는 \",data[\"main\"][\"temp\"],\"입니다.\")\n",
        "# 체감 온도 : main - feels_like\n",
        "print(\"하지만 체감 온도는 \",data[\"main\"][\"feels_like\"],\"입니다.\")\n",
        "# 최저 기온 : main - temp_min\n",
        "print(\"최저 기온은 \",data[\"main\"][\"temp_min\"],\"입니다.\")\n",
        "# 최고 기온 : main - temp_max\n",
        "print(\"최고 기온은 \",data[\"main\"][\"temp_max\"],\"입니다.\")\n",
        "# 습도 : main - humidity\n",
        "print(\"습도는 \",data[\"main\"][\"humidity\"],\"입니다.\")\n",
        "# 기압 : main - pressure\n",
        "print(\"기압은 \",data[\"main\"][\"pressure\"],\"입니다.\")\n",
        "# 풍향 : wind - deg\n",
        "print(\"풍향은 \",data[\"wind\"][\"deg\"],\"입니다.\")\n",
        "# 풍속 : wind - speed\n",
        "print(\"풍속은 \",data[\"wind\"][\"speed\"],\"입니다.\")"
      ],
      "execution_count": null,
      "outputs": []
    }
  ]
}