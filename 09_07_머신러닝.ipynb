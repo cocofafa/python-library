{
  "nbformat": 4,
  "nbformat_minor": 0,
  "metadata": {
    "colab": {
      "name": "09.07  머신러닝",
      "provenance": [],
      "collapsed_sections": [],
      "include_colab_link": true
    },
    "kernelspec": {
      "name": "python3",
      "display_name": "Python 3"
    }
  },
  "cells": [
    {
      "cell_type": "markdown",
      "metadata": {
        "id": "view-in-github",
        "colab_type": "text"
      },
      "source": [
        "<a href=\"https://colab.research.google.com/github/cocofafa/python-library/blob/master/09_07_%EB%A8%B8%EC%8B%A0%EB%9F%AC%EB%8B%9D.ipynb\" target=\"_parent\"><img src=\"https://colab.research.google.com/assets/colab-badge.svg\" alt=\"Open In Colab\"/></a>"
      ]
    },
    {
      "cell_type": "code",
      "metadata": {
        "id": "Ff9YgZ4pq5L1",
        "colab": {
          "base_uri": "https://localhost:8080/"
        },
        "outputId": "c0d1069e-01b8-4e1d-ee3f-4ff9f0d48fe6"
      },
      "source": [
        "!pip install mglearn"
      ],
      "execution_count": null,
      "outputs": [
        {
          "output_type": "stream",
          "text": [
            "Collecting mglearn\n",
            "  Downloading mglearn-0.1.9.tar.gz (540 kB)\n",
            "\u001b[?25l\r\u001b[K     |▋                               | 10 kB 20.9 MB/s eta 0:00:01\r\u001b[K     |█▏                              | 20 kB 25.9 MB/s eta 0:00:01\r\u001b[K     |█▉                              | 30 kB 12.7 MB/s eta 0:00:01\r\u001b[K     |██▍                             | 40 kB 9.0 MB/s eta 0:00:01\r\u001b[K     |███                             | 51 kB 5.2 MB/s eta 0:00:01\r\u001b[K     |███▋                            | 61 kB 5.7 MB/s eta 0:00:01\r\u001b[K     |████▎                           | 71 kB 5.4 MB/s eta 0:00:01\r\u001b[K     |████▉                           | 81 kB 6.0 MB/s eta 0:00:01\r\u001b[K     |█████▌                          | 92 kB 6.2 MB/s eta 0:00:01\r\u001b[K     |██████                          | 102 kB 5.1 MB/s eta 0:00:01\r\u001b[K     |██████▊                         | 112 kB 5.1 MB/s eta 0:00:01\r\u001b[K     |███████▎                        | 122 kB 5.1 MB/s eta 0:00:01\r\u001b[K     |███████▉                        | 133 kB 5.1 MB/s eta 0:00:01\r\u001b[K     |████████▌                       | 143 kB 5.1 MB/s eta 0:00:01\r\u001b[K     |█████████                       | 153 kB 5.1 MB/s eta 0:00:01\r\u001b[K     |█████████▊                      | 163 kB 5.1 MB/s eta 0:00:01\r\u001b[K     |██████████▎                     | 174 kB 5.1 MB/s eta 0:00:01\r\u001b[K     |███████████                     | 184 kB 5.1 MB/s eta 0:00:01\r\u001b[K     |███████████▌                    | 194 kB 5.1 MB/s eta 0:00:01\r\u001b[K     |████████████▏                   | 204 kB 5.1 MB/s eta 0:00:01\r\u001b[K     |████████████▊                   | 215 kB 5.1 MB/s eta 0:00:01\r\u001b[K     |█████████████▍                  | 225 kB 5.1 MB/s eta 0:00:01\r\u001b[K     |██████████████                  | 235 kB 5.1 MB/s eta 0:00:01\r\u001b[K     |██████████████▋                 | 245 kB 5.1 MB/s eta 0:00:01\r\u001b[K     |███████████████▏                | 256 kB 5.1 MB/s eta 0:00:01\r\u001b[K     |███████████████▊                | 266 kB 5.1 MB/s eta 0:00:01\r\u001b[K     |████████████████▍               | 276 kB 5.1 MB/s eta 0:00:01\r\u001b[K     |█████████████████               | 286 kB 5.1 MB/s eta 0:00:01\r\u001b[K     |█████████████████▋              | 296 kB 5.1 MB/s eta 0:00:01\r\u001b[K     |██████████████████▏             | 307 kB 5.1 MB/s eta 0:00:01\r\u001b[K     |██████████████████▉             | 317 kB 5.1 MB/s eta 0:00:01\r\u001b[K     |███████████████████▍            | 327 kB 5.1 MB/s eta 0:00:01\r\u001b[K     |████████████████████            | 337 kB 5.1 MB/s eta 0:00:01\r\u001b[K     |████████████████████▋           | 348 kB 5.1 MB/s eta 0:00:01\r\u001b[K     |█████████████████████▎          | 358 kB 5.1 MB/s eta 0:00:01\r\u001b[K     |█████████████████████▉          | 368 kB 5.1 MB/s eta 0:00:01\r\u001b[K     |██████████████████████▌         | 378 kB 5.1 MB/s eta 0:00:01\r\u001b[K     |███████████████████████         | 389 kB 5.1 MB/s eta 0:00:01\r\u001b[K     |███████████████████████▋        | 399 kB 5.1 MB/s eta 0:00:01\r\u001b[K     |████████████████████████▎       | 409 kB 5.1 MB/s eta 0:00:01\r\u001b[K     |████████████████████████▉       | 419 kB 5.1 MB/s eta 0:00:01\r\u001b[K     |█████████████████████████▌      | 430 kB 5.1 MB/s eta 0:00:01\r\u001b[K     |██████████████████████████      | 440 kB 5.1 MB/s eta 0:00:01\r\u001b[K     |██████████████████████████▊     | 450 kB 5.1 MB/s eta 0:00:01\r\u001b[K     |███████████████████████████▎    | 460 kB 5.1 MB/s eta 0:00:01\r\u001b[K     |████████████████████████████    | 471 kB 5.1 MB/s eta 0:00:01\r\u001b[K     |████████████████████████████▌   | 481 kB 5.1 MB/s eta 0:00:01\r\u001b[K     |█████████████████████████████▏  | 491 kB 5.1 MB/s eta 0:00:01\r\u001b[K     |█████████████████████████████▊  | 501 kB 5.1 MB/s eta 0:00:01\r\u001b[K     |██████████████████████████████▍ | 512 kB 5.1 MB/s eta 0:00:01\r\u001b[K     |███████████████████████████████ | 522 kB 5.1 MB/s eta 0:00:01\r\u001b[K     |███████████████████████████████▌| 532 kB 5.1 MB/s eta 0:00:01\r\u001b[K     |████████████████████████████████| 540 kB 5.1 MB/s \n",
            "\u001b[?25hRequirement already satisfied: numpy in /usr/local/lib/python3.7/dist-packages (from mglearn) (1.19.5)\n",
            "Requirement already satisfied: matplotlib in /usr/local/lib/python3.7/dist-packages (from mglearn) (3.2.2)\n",
            "Requirement already satisfied: scikit-learn in /usr/local/lib/python3.7/dist-packages (from mglearn) (0.22.2.post1)\n",
            "Requirement already satisfied: pandas in /usr/local/lib/python3.7/dist-packages (from mglearn) (1.1.5)\n",
            "Requirement already satisfied: pillow in /usr/local/lib/python3.7/dist-packages (from mglearn) (7.1.2)\n",
            "Requirement already satisfied: cycler in /usr/local/lib/python3.7/dist-packages (from mglearn) (0.10.0)\n",
            "Requirement already satisfied: imageio in /usr/local/lib/python3.7/dist-packages (from mglearn) (2.4.1)\n",
            "Requirement already satisfied: joblib in /usr/local/lib/python3.7/dist-packages (from mglearn) (1.0.1)\n",
            "Requirement already satisfied: six in /usr/local/lib/python3.7/dist-packages (from cycler->mglearn) (1.15.0)\n",
            "Requirement already satisfied: kiwisolver>=1.0.1 in /usr/local/lib/python3.7/dist-packages (from matplotlib->mglearn) (1.3.1)\n",
            "Requirement already satisfied: pyparsing!=2.0.4,!=2.1.2,!=2.1.6,>=2.0.1 in /usr/local/lib/python3.7/dist-packages (from matplotlib->mglearn) (2.4.7)\n",
            "Requirement already satisfied: python-dateutil>=2.1 in /usr/local/lib/python3.7/dist-packages (from matplotlib->mglearn) (2.8.1)\n",
            "Requirement already satisfied: pytz>=2017.2 in /usr/local/lib/python3.7/dist-packages (from pandas->mglearn) (2018.9)\n",
            "Requirement already satisfied: scipy>=0.17.0 in /usr/local/lib/python3.7/dist-packages (from scikit-learn->mglearn) (1.4.1)\n",
            "Building wheels for collected packages: mglearn\n",
            "  Building wheel for mglearn (setup.py) ... \u001b[?25l\u001b[?25hdone\n",
            "  Created wheel for mglearn: filename=mglearn-0.1.9-py2.py3-none-any.whl size=582638 sha256=48cdd15b2fb7189a5b0f29fee9e82f8a666a74e7caa456dab6a5f142fb449e6c\n",
            "  Stored in directory: /root/.cache/pip/wheels/f1/17/e1/1720d6dcd70187b6b6c3750cb3508798f2b1d57c9d3214b08b\n",
            "Successfully built mglearn\n",
            "Installing collected packages: mglearn\n",
            "Successfully installed mglearn-0.1.9\n"
          ],
          "name": "stdout"
        }
      ]
    },
    {
      "cell_type": "markdown",
      "metadata": {
        "id": "pEaXDqs8mNj8"
      },
      "source": [
        "# Linear SVC"
      ]
    },
    {
      "cell_type": "markdown",
      "metadata": {
        "id": "4uTx-gQfei2X"
      },
      "source": [
        "[LinearSVC()](https://scikit-learn.org/stable/modules/generated/sklearn.svm.LinearSVC.html)\n",
        "```\n",
        "LinearSVC(penalty, loss, dual, tol, C, multi_class, fit_intercept, intercept_scaling, class_weight, verbose, random_state, max_iter)\n",
        "```\n",
        "- <font color=yellow> penalty : 규제에 사용 된 기준을 지정 (l1, l2) – default : l2 </font>\n",
        "- loss : 손실함수\n",
        "- dual : 이중 또는 초기 공식\n",
        "- tol : 정밀도\n",
        "- <font color=yellow> C : 규제 강도 </font>\n",
        "- multi_class : 다중 분류 시에 (ovr, multinomial, auto)로 설정\n",
        "- fit_intercept : 모형에 상수항 (절편)이 있는가 없는가를 결정하는 인수 (default : True)\n",
        "- intercept_scaling : 정규화 효과 정도\n",
        "- class_weight : 클래스의 가중치\n",
        "- verbose : 동작 과정에 대한 출력 메시지\n",
        "- random_state : 난수 seed 설정\n",
        "- max_iter : 계산에 사용할 작업 수"
      ]
    },
    {
      "cell_type": "code",
      "metadata": {
        "id": "B3Y1e4bTmFOz"
      },
      "source": [
        "from mglearn.datasets import make_forge\n",
        "import matplotlib.pyplot as plt\n",
        "import numpy as np\n",
        "import mglearn\n",
        "from sklearn.svm import LinearSVC"
      ],
      "execution_count": null,
      "outputs": []
    },
    {
      "cell_type": "code",
      "metadata": {
        "id": "CqIXOR6jq8vT",
        "colab": {
          "base_uri": "https://localhost:8080/"
        },
        "outputId": "3cc5fc4b-a972-4d40-ee7c-9e388994c56b"
      },
      "source": [
        "  # 데이터 로드\n",
        "  X, y = make_forge()"
      ],
      "execution_count": null,
      "outputs": [
        {
          "output_type": "stream",
          "text": [
            "/usr/local/lib/python3.7/dist-packages/sklearn/utils/deprecation.py:87: FutureWarning: Function make_blobs is deprecated; Please import make_blobs directly from scikit-learn\n",
            "  warnings.warn(msg, category=FutureWarning)\n"
          ],
          "name": "stderr"
        }
      ]
    },
    {
      "cell_type": "code",
      "metadata": {
        "id": "3eQ7lPN8q-fF"
      },
      "source": [
        "# 모델 학습\n",
        "model = LinearSVC(C=1, max_iter=10000).fit(X, y)"
      ],
      "execution_count": null,
      "outputs": []
    },
    {
      "cell_type": "code",
      "metadata": {
        "id": "AQNyll2crCC9",
        "colab": {
          "base_uri": "https://localhost:8080/",
          "height": 287
        },
        "outputId": "5500d1e2-929b-4b50-a2aa-593f260c7db1"
      },
      "source": [
        "# 결정경계 시각화\n",
        "mglearn.plots.plot_2d_separator(model, X)\n",
        "mglearn.discrete_scatter(X[:, 0], X[:, 1], y)"
      ],
      "execution_count": null,
      "outputs": [
        {
          "output_type": "execute_result",
          "data": {
            "text/plain": [
              "[<matplotlib.lines.Line2D at 0x7fd429e79150>,\n",
              " <matplotlib.lines.Line2D at 0x7fd429e798d0>]"
            ]
          },
          "metadata": {
            "tags": []
          },
          "execution_count": 5
        },
        {
          "output_type": "display_data",
          "data": {
            "image/png": "[encoded data removed]",
            "text/plain": [
              "<Figure size 432x288 with 1 Axes>"
            ]
          },
          "metadata": {
            "tags": []
          }
        }
      ]
    },
    {
      "cell_type": "markdown",
      "metadata": {
        "id": "8rejDMAIrUJe"
      },
      "source": [
        "### C 값의 변화에 따른 결정경계의 변화\n"
      ]
    },
    {
      "cell_type": "code",
      "metadata": {
        "id": "YqWtvABtq1QS",
        "colab": {
          "base_uri": "https://localhost:8080/",
          "height": 268
        },
        "outputId": "534441b5-5130-4bfc-ccfe-24ef1d8464bb"
      },
      "source": [
        "# linear SVC 결정경계 변화\n",
        "mglearn.plots.plot_linear_svc_regularization()"
      ],
      "execution_count": null,
      "outputs": [
        {
          "output_type": "display_data",
          "data": {
            "image/png": "[encoded data removed]",
            "text/plain": [
              "<Figure size 864x288 with 3 Axes>"
            ]
          },
          "metadata": {
            "tags": []
          }
        }
      ]
    },
    {
      "cell_type": "markdown",
      "metadata": {
        "id": "V_e1LjstrvXI"
      },
      "source": [
        "- 왼쪽 그림은 아주 작은 C 값 때문에 클래스 0은 아래쪽에 1은 위쪽에 대부분 배치, 2개가 잘못 분류 (결정경계가 수평에 가까움)\n",
        "- C 값이 올라가면 결정경계가 기울어지며 최종적으로 클래스 0은 모두 아래쪽에 위치됨 -> 과대 적합"
      ]
    },
    {
      "cell_type": "markdown",
      "metadata": {
        "id": "INTa7XoAGSIq"
      },
      "source": [
        "#### Linear SVC 실습 01\n",
        "\n",
        "와인 데이터 분류"
      ]
    },
    {
      "cell_type": "code",
      "metadata": {
        "id": "ruCGGRhNe41V"
      },
      "source": [
        "from sklearn.datasets import load_wine\n",
        "\n",
        "# 데이터 로드\n",
        "wine = load_wine()"
      ],
      "execution_count": null,
      "outputs": []
    },
    {
      "cell_type": "code",
      "metadata": {
        "id": "J9rfsUImgCpL",
        "colab": {
          "base_uri": "https://localhost:8080/"
        },
        "outputId": "451acf22-4c3a-444a-cf6f-42576bfa06e2"
      },
      "source": [
        "# 훈련(학습)셋 및 테스트(평가)셋 분리\n",
        "from sklearn.model_selection import train_test_split\n",
        "X = wine.data\n",
        "y = wine.target\n",
        "X_train, X_test, y_train, y_test = train_test_split(X, y, random_state=0)\n",
        "X_train.shape"
      ],
      "execution_count": null,
      "outputs": [
        {
          "output_type": "execute_result",
          "data": {
            "text/plain": [
              "(133, 13)"
            ]
          },
          "metadata": {
            "tags": []
          },
          "execution_count": 7
        }
      ]
    },
    {
      "cell_type": "code",
      "metadata": {
        "id": "k9lkaQF6gIqq",
        "colab": {
          "base_uri": "https://localhost:8080/"
        },
        "outputId": "e5dc97c5-0da4-467b-ca93-2e2654db011e"
      },
      "source": [
        "# 모델학습\n",
        "from sklearn.svm import LinearSVC\n",
        "\n",
        "model = LinearSVC(C=1, max_iter=100000, random_state=42).fit(X_train, y_train)"
      ],
      "execution_count": null,
      "outputs": [
        {
          "output_type": "stream",
          "text": [
            "/usr/local/lib/python3.7/dist-packages/sklearn/svm/_base.py:947: ConvergenceWarning: Liblinear failed to converge, increase the number of iterations.\n",
            "  \"the number of iterations.\", ConvergenceWarning)\n"
          ],
          "name": "stderr"
        }
      ]
    },
    {
      "cell_type": "code",
      "metadata": {
        "id": "fECZovAegsbi",
        "colab": {
          "base_uri": "https://localhost:8080/"
        },
        "outputId": "6c5875d9-7da5-4e4c-b15f-215a786356f3"
      },
      "source": [
        "# 스코어 확인\n",
        "model.score(X_train, y_train), model.score(X_test, y_test)"
      ],
      "execution_count": null,
      "outputs": [
        {
          "output_type": "execute_result",
          "data": {
            "text/plain": [
              "(0.9699248120300752, 0.9333333333333333)"
            ]
          },
          "metadata": {
            "tags": []
          },
          "execution_count": 14
        }
      ]
    },
    {
      "cell_type": "code",
      "metadata": {
        "id": "WMU3COw_gt_5",
        "colab": {
          "base_uri": "https://localhost:8080/"
        },
        "outputId": "a5d07309-92d2-4828-b516-2cf88ee5d42b"
      },
      "source": [
        "# 예측\n",
        "y_pred = model.predict(X_test)\n",
        "y_pred"
      ],
      "execution_count": null,
      "outputs": [
        {
          "output_type": "execute_result",
          "data": {
            "text/plain": [
              "array([0, 2, 1, 0, 1, 1, 0, 2, 1, 1, 2, 2, 0, 1, 2, 1, 0, 0, 2, 0, 1, 0,\n",
              "       1, 1, 1, 1, 1, 1, 1, 2, 0, 0, 1, 0, 0, 0, 2, 1, 1, 2, 1, 0, 1, 1,\n",
              "       1])"
            ]
          },
          "metadata": {
            "tags": []
          },
          "execution_count": 15
        }
      ]
    },
    {
      "cell_type": "markdown",
      "metadata": {
        "id": "H7V6AGs3GZTn"
      },
      "source": [
        "#### Linear SVC 실습 02\n",
        "\n",
        "붓꽃 데이터 분류"
      ]
    },
    {
      "cell_type": "code",
      "metadata": {
        "id": "G8JmFQgae9Di"
      },
      "source": [
        "# 데이터 로드\n",
        "from sklearn.datasets import load_iris\n",
        "iris = load_iris()"
      ],
      "execution_count": null,
      "outputs": []
    },
    {
      "cell_type": "code",
      "metadata": {
        "id": "8XWVWwVYfAoA",
        "colab": {
          "base_uri": "https://localhost:8080/"
        },
        "outputId": "13559544-6ecf-431e-8351-b9d47a22d73f"
      },
      "source": [
        "# 훈련셋 및 테스트셋 분리\n",
        "from sklearn.model_selection import train_test_split\n",
        "X = iris.data\n",
        "y = iris.target\n",
        "X_train, X_test, y_train, y_test = train_test_split(X, y, random_state=0)\n",
        "X_train.shape"
      ],
      "execution_count": null,
      "outputs": [
        {
          "output_type": "execute_result",
          "data": {
            "text/plain": [
              "(112, 4)"
            ]
          },
          "metadata": {
            "tags": []
          },
          "execution_count": 35
        }
      ]
    },
    {
      "cell_type": "code",
      "metadata": {
        "id": "fUuHjRj-fEaR"
      },
      "source": [
        "# 모델학습\n",
        "from sklearn.svm import LinearSVC\n",
        "\n",
        "model = LinearSVC(C=100, max_iter=1000000, random_state=0).fit(X_train, y_train)"
      ],
      "execution_count": null,
      "outputs": []
    },
    {
      "cell_type": "code",
      "metadata": {
        "id": "F78w-UXpfaKS",
        "colab": {
          "base_uri": "https://localhost:8080/"
        },
        "outputId": "2509d7e9-c14b-4f63-fabf-50b39a35aaa9"
      },
      "source": [
        "# 스코어 확인\n",
        "model.score(X_train, y_train), model.score(X_test, y_test)"
      ],
      "execution_count": null,
      "outputs": [
        {
          "output_type": "execute_result",
          "data": {
            "text/plain": [
              "(0.9910714285714286, 0.9736842105263158)"
            ]
          },
          "metadata": {
            "tags": []
          },
          "execution_count": 43
        }
      ]
    },
    {
      "cell_type": "code",
      "metadata": {
        "id": "jCpX70usfe_s",
        "colab": {
          "base_uri": "https://localhost:8080/"
        },
        "outputId": "e9987fc1-c2c6-42b4-a0bc-b4333efc2142"
      },
      "source": [
        "# 예측\n",
        "y_pred = model.predict(X_test)\n",
        "y_pred"
      ],
      "execution_count": null,
      "outputs": [
        {
          "output_type": "execute_result",
          "data": {
            "text/plain": [
              "array([2, 1, 0, 2, 0, 2, 0, 1, 1, 1, 2, 1, 1, 1, 1, 0, 1, 1, 0, 0, 2, 1,\n",
              "       0, 0, 2, 0, 0, 1, 1, 0, 2, 1, 0, 2, 2, 1, 0, 2])"
            ]
          },
          "metadata": {
            "tags": []
          },
          "execution_count": 44
        }
      ]
    },
    {
      "cell_type": "markdown",
      "metadata": {
        "id": "6Bhvx9b_d32-"
      },
      "source": [
        "## Linear SVC와 Logistic Regression의 장단점\n",
        "\n",
        "- 선형 모델의 주요 매개변수는 회귀 모델에서는 alpha였고 LinearSVC와 LogisticRegression에서는 C\n",
        "- alpha 값이 클수록, C 값이 작을수록 모델이 단순해짐\n",
        "- 회귀 모델에서 이 매개변수를 조정하는 일이 매우 중요\n",
        "\n",
        "- L1 규제를 사용할지 L2 규제를 사용할지를 정해야 함\n",
        "- 중요한 특성이 많지 않다고 생각하면 L1 규제를 사용하고 그렇지 않으면 기본적으로 L2 규제를 사용\n",
        "\n",
        "- 선형 모델은 학습 속도가 빠르고 예측도 빠름\n",
        "- 매우 큰 데이터셋과 희소한 데이터셋에도 잘 작동\n",
        "- 수십만에서 수백만 개의 샘플로 이뤄진 대용량 데이터셋이라면 기본 설정보다 빨리 처리하도록 LogisticRegression과 Ridge에 solver=’sag’ 옵션을 줌\n",
        "\n",
        "- 선형 모델은 샘플에 비해 특성이 많을 때 잘 작동\n",
        "- 다른 모델로 학습하기 어려운 매우 큰 데이터셋에도 선형 모델을 많이 사용"
      ]
    }
  ]
}