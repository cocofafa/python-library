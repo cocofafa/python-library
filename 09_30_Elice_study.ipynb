{
  "nbformat": 4,
  "nbformat_minor": 0,
  "metadata": {
    "colab": {
      "name": "09.30_Elice_study",
      "provenance": [],
      "authorship_tag": "ABX9TyMdz0/tKx5+cPcX/paxrffd",
      "include_colab_link": true
    },
    "kernelspec": {
      "name": "python3",
      "display_name": "Python 3"
    },
    "language_info": {
      "name": "python"
    }
  },
  "cells": [
    {
      "cell_type": "markdown",
      "metadata": {
        "id": "view-in-github",
        "colab_type": "text"
      },
      "source": [
        "<a href=\"https://colab.research.google.com/github/cocofafa/python-library/blob/master/09_30_Elice_study.ipynb\" target=\"_parent\"><img src=\"https://colab.research.google.com/assets/colab-badge.svg\" alt=\"Open In Colab\"/></a>"
      ]
    },
    {
      "cell_type": "code",
      "metadata": {
        "id": "pC13xPLYIqJF"
      },
      "source": [
        "import numpy as np \n",
        "import pandas as pd \n",
        "import matplotlib.pyplot as plt\n",
        "!pip install seaborn==0.9.0\n",
        "import seaborn as sns\n",
        "print(sns.__version__)\n",
        "# missingno라는 라이브러리가 설치되어 있을 경우 import\n",
        "try: \n",
        "    import missingno as msno\n",
        "# missingno라는 라이브러리가 설치되어 있지 않을 경우 설치 후 import\n",
        "except: \n",
        "    !pip install missingno\n",
        "    import missingno as msno"
      ],
      "execution_count": null,
      "outputs": []
    },
    {
      "cell_type": "code",
      "metadata": {
        "id": "GH4FeegyI5JL"
      },
      "source": [
        "import numpy as np \n",
        "import pandas as pd \n",
        "import matplotlib.pyplot as plt\n",
        "!pip install seaborn==0.9.0\n",
        "import seaborn as sns\n",
        "print(sns.__version__)\n",
        "# missingno라는 라이브러리가 설치되어 있을 경우 import\n",
        "try: \n",
        "    import missingno as msno\n",
        "# missingno라는 라이브러리가 설치되어 있지 않을 경우 설치 후 import\n",
        "except: \n",
        "    !pip install missingno\n",
        "    import missingno as msno"
      ],
      "execution_count": null,
      "outputs": []
    },
    {
      "cell_type": "code",
      "metadata": {
        "id": "TBm7tPnfI5Li"
      },
      "source": [
        "# 상위 5개 데이터를 출력합니다.\n",
        "df.head()"
      ],
      "execution_count": null,
      "outputs": []
    },
    {
      "cell_type": "code",
      "metadata": {
        "id": "7rhHwc2TI5Nb"
      },
      "source": [
        "# 상위 10개 데이터를 출력합니다.\n",
        "df.head(10)"
      ],
      "execution_count": null,
      "outputs": []
    },
    {
      "cell_type": "code",
      "metadata": {
        "id": "u_cP3mLDI5Pk"
      },
      "source": [
        "# 하위 5개 데이터를 출력합니다.\n",
        "df.tail()"
      ],
      "execution_count": null,
      "outputs": []
    },
    {
      "cell_type": "code",
      "metadata": {
        "id": "kb73JX2bI5Rq"
      },
      "source": [
        "# dataframe 정보를 요약하여 출력합니다. \n",
        "df.info()\n"
      ],
      "execution_count": null,
      "outputs": []
    },
    {
      "cell_type": "code",
      "metadata": {
        "id": "SuQAF6eaI5Tz"
      },
      "source": [
        "import matplotlib.font_manager as fm\n",
        "\n",
        "font_dirs = ['/usr/share/fonts/truetype/nanum', ]\n",
        "font_files = fm.findSystemFonts(fontpaths=font_dirs)\n",
        "\n",
        "for font_file in font_files:\n",
        "    fm.fontManager.addfont(font_file)"
      ],
      "execution_count": null,
      "outputs": []
    },
    {
      "cell_type": "code",
      "metadata": {
        "id": "kYP-0IDtI5Vz"
      },
      "source": [
        "sns.set(font=\"NanumBarunGothic\", \n",
        "        rc={\"axes.unicode_minus\":False})\n",
        "msno.matrix(df)\n",
        "plt.show()"
      ],
      "execution_count": null,
      "outputs": []
    },
    {
      "cell_type": "code",
      "metadata": {
        "id": "Y1EGhrPMJIAP"
      },
      "source": [
        "# 각 열 별로 결측치의 갯수를 반환합니다. (True:1, False:0)\n",
        "df.isna().sum() "
      ],
      "execution_count": null,
      "outputs": []
    },
    {
      "cell_type": "code",
      "metadata": {
        "id": "CAkXaBzDJICo"
      },
      "source": [
        ""
      ],
      "execution_count": null,
      "outputs": []
    },
    {
      "cell_type": "code",
      "metadata": {
        "id": "4qZdZQnXJIEW"
      },
      "source": [
        ""
      ],
      "execution_count": null,
      "outputs": []
    }
  ]
}